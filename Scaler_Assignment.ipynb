{
  "nbformat": 4,
  "nbformat_minor": 0,
  "metadata": {
    "colab": {
      "provenance": [],
      "authorship_tag": "ABX9TyMPE2FrKCyu1V9YrBnkLWCu",
      "include_colab_link": true
    },
    "kernelspec": {
      "name": "python3",
      "display_name": "Python 3"
    },
    "language_info": {
      "name": "python"
    }
  },
  "cells": [
    {
      "cell_type": "markdown",
      "metadata": {
        "id": "view-in-github",
        "colab_type": "text"
      },
      "source": [
        "<a href=\"https://colab.research.google.com/github/Adnankhan0999/Adnankhan0999/blob/main/Scaler_Assignment.ipynb\" target=\"_parent\"><img src=\"https://colab.research.google.com/assets/colab-badge.svg\" alt=\"Open In Colab\"/></a>"
      ]
    },
    {
      "cell_type": "code",
      "execution_count": 1,
      "metadata": {
        "id": "pq7jWI7ndj4Y"
      },
      "outputs": [],
      "source": [
        "import pandas as pd\n",
        "from datetime import datetime, timedelta"
      ]
    },
    {
      "cell_type": "code",
      "source": [
        "# Step 1: Load Sample Student Data\n",
        "students = [\n",
        "    {\"Name\": f\"Student {i}\", \"Academics (%)\": score, \"SAT Score\": sat, \"Extracurriculars\": extra, \"Leadership\": leader, \"Experience\": exp}\n",
        "    for i, (score, sat, extra, leader, exp) in enumerate(zip(\n",
        "        [95, 85, 78, 92, 88, 76, 99, 81, 83, 90, 79, 97, 80, 74, 89, 93, 82, 77, 91, 84, 87, 86, 75, 96],\n",
        "        [1450, 1300, 1250, 1400, 1350, None, 1500, 1280, 1320, 1420, None, 1480, 1260, None, 1360, 1440, 1270, None, 1390, 1310, 1340, 1290, None, 1470],\n",
        "        [\"National\", \"State\", \"School\", \"National\", \"State\", \"School\", \"National\", \"School\", \"State\", \"National\", \"School\", \"National\", \"State\", \"School\", \"State\", \"National\", \"School\", \"School\", \"State\", \"School\", \"State\", \"School\", \"School\", \"National\"],\n",
        "        [\"Council\", \"Leader\", \"Member\", \"Council\", \"Leader\", \"Member\", \"Council\", \"Member\", \"Leader\", \"Council\", \"Member\", \"Council\", \"Leader\", \"Member\", \"Leader\", \"Council\", \"Member\", \"Member\", \"Leader\", \"Member\", \"Leader\", \"Member\", \"Member\", \"Council\"],\n",
        "        [\"Internship\", \"Research\", \"Project\", \"Internship\", \"Research\", \"Project\", \"Internship\", \"Project\", \"Research\", \"Internship\", \"Project\", \"Internship\", \"Research\", \"Project\", \"Research\", \"Internship\", \"Project\", \"Project\", \"Research\", \"Project\", \"Research\", \"Project\", \"Project\", \"Internship\"]\n",
        "    ))\n",
        "]"
      ],
      "metadata": {
        "id": "dhhoaUHmdkda"
      },
      "execution_count": 2,
      "outputs": []
    },
    {
      "cell_type": "code",
      "source": [
        "# Convert to DataFrame\n",
        "shortlisting_df = pd.DataFrame(students)"
      ],
      "metadata": {
        "id": "FhlgHFvReqP5"
      },
      "execution_count": 3,
      "outputs": []
    },
    {
      "cell_type": "code",
      "source": [
        "# Step 2: Define Shortlisting Criteria\n",
        "def calculate_points(row):\n",
        "    academic_points = 10 if row[\"Academics (%)\"] >= 95 else 8 if row[\"Academics (%)\"] >= 90 else 6 if row[\"Academics (%)\"] >= 80 else 4 if row[\"Academics (%)\"] >= 75 else 0\n",
        "    sat_points = 5 if row[\"SAT Score\"] and row[\"SAT Score\"] >= 1400 else 3 if row[\"SAT Score\"] and row[\"SAT Score\"] >= 1300 else 1 if row[\"SAT Score\"] else 0\n",
        "    extracurricular_points = 8 if row[\"Extracurriculars\"] == \"National\" else 5 if row[\"Extracurriculars\"] == \"State\" else 2\n",
        "    leadership_points = 5 if row[\"Leadership\"] == \"Council\" else 3 if row[\"Leadership\"] == \"Leader\" else 1\n",
        "    experience_points = 5 if row[\"Experience\"] == \"Internship\" else 3 if row[\"Experience\"] == \"Research\" else 2\n",
        "\n",
        "    return academic_points + sat_points + extracurricular_points + leadership_points + experience_points"
      ],
      "metadata": {
        "id": "IgniNhcqevAF"
      },
      "execution_count": 4,
      "outputs": []
    },
    {
      "cell_type": "code",
      "source": [
        "# Apply scoring\n",
        "shortlisting_df[\"Points\"] = shortlisting_df.apply(calculate_points, axis=1)"
      ],
      "metadata": {
        "id": "rj18zO_Ne0tQ"
      },
      "execution_count": 5,
      "outputs": []
    },
    {
      "cell_type": "code",
      "source": [
        "# Determine status\n",
        "shortlisting_df[\"Status\"] = shortlisting_df[\"Points\"].apply(lambda x: \"Shortlisted\" if x >= 20 else \"Waitlist\" if x >= 15 else \"Rejected\")\n"
      ],
      "metadata": {
        "id": "gEbqTmS1e3s_"
      },
      "execution_count": 6,
      "outputs": []
    },
    {
      "cell_type": "code",
      "source": [
        "# Step 3: Filter shortlisted candidates\n",
        "shortlisted_candidates = shortlisting_df[shortlisting_df[\"Status\"] == \"Shortlisted\"].reset_index(drop=True)"
      ],
      "metadata": {
        "id": "oQE90zsAe6pw"
      },
      "execution_count": 7,
      "outputs": []
    },
    {
      "cell_type": "code",
      "source": [
        "# Step 4: Generate Interview Schedule\n",
        "interviewers = [\"Interviewer 1\", \"Interviewer 2\", \"Interviewer 3\"]\n",
        "slots_per_day = 9  # Maximum slots per day\n",
        "start_time = datetime.strptime(\"09:00\", \"%H:%M\")\n",
        "\n",
        "interview_schedule = []\n",
        "for i, student in enumerate(shortlisted_candidates[\"Name\"]):\n",
        "    interviewer = interviewers[i % 3]  # Assign interviewer in round-robin\n",
        "    day = 20 + (i // slots_per_day)  # Assign day sequentially\n",
        "    time_slot = start_time + timedelta(minutes=20 * (i % slots_per_day))\n",
        "    end_time = time_slot + timedelta(minutes=20)\n",
        "\n",
        "    interview_schedule.append([student, \"Shortlisted\", interviewer, f\"March {day}\", time_slot.strftime(\"%I:%M %p\"), end_time.strftime(\"%I:%M %p\")])\n",
        "\n",
        "interview_df = pd.DataFrame(interview_schedule, columns=[\"Name\", \"Status\", \"Interviewer\", \"Date\", \"Start Time\", \"End Time\"])"
      ],
      "metadata": {
        "id": "YfMSoL-ZfHWF"
      },
      "execution_count": 8,
      "outputs": []
    },
    {
      "cell_type": "code",
      "source": [
        "# Step 5: Save to Excel\n",
        "file_path = \"UG_Admission_Shortlist.xlsx\"\n",
        "with pd.ExcelWriter(file_path) as writer:\n",
        "    shortlisting_df.to_excel(writer, sheet_name=\"Shortlisting\", index=False)\n",
        "    interview_df.to_excel(writer, sheet_name=\"Interview Schedule\", index=False)\n",
        "\n",
        "print(f\"Excel file '{file_path}' has been created successfully!\")"
      ],
      "metadata": {
        "colab": {
          "base_uri": "https://localhost:8080/"
        },
        "id": "PCN7kAzQfJqy",
        "outputId": "eaa0b8fe-c942-40ae-e340-66d9a7c7cb32"
      },
      "execution_count": 9,
      "outputs": [
        {
          "output_type": "stream",
          "name": "stdout",
          "text": [
            "Excel file 'UG_Admission_Shortlist.xlsx' has been created successfully!\n"
          ]
        }
      ]
    },
    {
      "cell_type": "code",
      "source": [],
      "metadata": {
        "id": "iOdpfjLO5mVE"
      },
      "execution_count": null,
      "outputs": []
    }
  ]
}